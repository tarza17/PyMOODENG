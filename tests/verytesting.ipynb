{
 "cells": [
  {
   "cell_type": "code",
   "metadata": {
    "ExecuteTime": {
     "end_time": "2025-05-08T13:53:10.287361Z",
     "start_time": "2025-05-08T13:53:10.271830Z"
    }
   },
   "source": [
    "import numpy as np\n",
    "import pandas as pd\n",
    "import matplotlib.pyplot as plt\n",
    "import PyQt5 as qt\n",
    "import pymoodeng"
   ],
   "outputs": [],
   "execution_count": 70
  },
  {
   "cell_type": "code",
   "metadata": {
    "ExecuteTime": {
     "end_time": "2025-05-08T14:27:37.836824Z",
     "start_time": "2025-05-08T14:27:37.829722Z"
    }
   },
   "source": "from pymoodeng import anomaly",
   "outputs": [],
   "execution_count": 140
  },
  {
   "cell_type": "code",
   "metadata": {
    "ExecuteTime": {
     "end_time": "2025-05-08T14:40:04.519412Z",
     "start_time": "2025-05-08T14:39:24.820090Z"
    }
   },
   "source": [
    "from pymoodeng import plotting as p\n",
    "import pymoodeng\n",
    "\n",
    "systems = p.list_systems()\n",
    "print(systems)\n",
    "p.plot('Dwarves', 100)"
   ],
   "outputs": [
    {
     "name": "stdout",
     "output_type": "stream",
     "text": [
      "['Dwarves', 'Earth, Moon', 'Solar system', 'Inner solar system', 'Sun, Earth, Moon']\n",
      "Starting animation: 101 frames, 1 day(s) per frame, interval=20ms\n",
      "\n",
      "--- Interactive Controls ---\n",
      "Mouse Wheel: Zoom in/out\n",
      "Left Mouse Button + Drag: Pan\n",
      "Press 'space': Pause/Unpause animation\n",
      "Press 'r': Reset view\n",
      "--------------------------\n",
      "\n",
      "Animation finished or window closed.\n"
     ]
    }
   ],
   "execution_count": 1
  }
 ],
 "metadata": {
  "kernelspec": {
   "display_name": ".venv",
   "language": "python",
   "name": "python3"
  },
  "language_info": {
   "codemirror_mode": {
    "name": "ipython",
    "version": 3
   },
   "file_extension": ".py",
   "mimetype": "text/x-python",
   "name": "python",
   "nbconvert_exporter": "python",
   "pygments_lexer": "ipython3",
   "version": "3.12.7"
  }
 },
 "nbformat": 4,
 "nbformat_minor": 2
}
