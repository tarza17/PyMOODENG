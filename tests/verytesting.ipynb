{
 "cells": [
  {
   "cell_type": "code",
   "execution_count": 70,
   "metadata": {
    "ExecuteTime": {
     "end_time": "2025-05-08T13:53:10.287361Z",
     "start_time": "2025-05-08T13:53:10.271830Z"
    }
   },
   "outputs": [],
   "source": [
    "import numpy as np\n",
    "import pandas as pd\n",
    "import matplotlib.pyplot as plt\n",
    "import PyQt5 as qt\n",
    "import pymoodeng"
   ]
  },
  {
   "cell_type": "code",
   "execution_count": 140,
   "metadata": {
    "ExecuteTime": {
     "end_time": "2025-05-08T14:27:37.836824Z",
     "start_time": "2025-05-08T14:27:37.829722Z"
    }
   },
   "outputs": [],
   "source": [
    "from pymoodeng import anomaly"
   ]
  },
  {
   "cell_type": "code",
   "execution_count": 1,
   "metadata": {
    "ExecuteTime": {
     "end_time": "2025-05-08T16:55:43.278421Z",
     "start_time": "2025-05-08T16:55:26.785566Z"
    }
   },
   "outputs": [
    {
     "name": "stdout",
     "output_type": "stream",
     "text": [
      "{'EarthMoon', 'planetsys', 'Solar_system0', 'Dwarfs', 'SunEarthMoon', 'system2', 'Solar_system', 'system'}\n",
      "Starting animation: 366 frames, 1 day(s) per frame, interval=20ms\n",
      "\n",
      "--- Interactive Controls ---\n",
      "Mouse Wheel: Zoom in/out\n",
      "Left Mouse Button + Drag: Pan\n",
      "Press 'space': Pause/Unpause animation\n",
      "Press 'r': Reset view\n",
      "--------------------------\n",
      "\n",
      "Animation finished or window closed.\n"
     ]
    }
   ],
   "source": [
    "from pymoodeng import plotting as p\n",
    "from pymoodeng import objects as o\n",
    "\n",
    "#To create a planetary system, you first define a center, around witch planets orbit\n",
    "Center = o.Body(name = \"HLX-1\",\n",
    "                color = \"white\",\n",
    "                mass = 8e20,\n",
    "                mean_diameter = 800000)\n",
    "\n",
    "#Classic planet creation example\n",
    "b612 = o.Body(name = \"b612\",          # display name\n",
    "              color = \"yellow\",       # display color\n",
    "              mass = 1e8,             # Mass, future use\n",
    "              mean_diameter = 10000,  # Size of the planet, realtive to the other bodies within the system\n",
    "              orbit = o.Orbit(peri_r = 2e8, tp = 20 * 24 * 3600, e = 0.3)) #parameters: peri_r = pericentricy, tp = periodtime , e = eccentricity\n",
    "\n",
    "Moondeng = o.Body(name = \"Moondeng\",\n",
    "                  color = \"palevioletred\",\n",
    "                  mass = 1000000,\n",
    "                  mean_diameter = 2000,\n",
    "                  orbit = o.Orbit(peri_r = 1e5, tp = 2 * 24 * 3600, e = 0.1))\n",
    "\n",
    "#Creation of a planetary system, which can be simulated\n",
    "#Planet - Moon\n",
    "#name in case its further reused\n",
    "example_planetsys = o.System(name = \"planetsys\", # name of the system, used to reference it\n",
    "         center = b612,   # string, the center body\n",
    "         orbiting = Moondeng) # string or array, every object orbiting the center body\n",
    "\n",
    "#\"Sun\" - (planet - moon)\n",
    "example_system = o.System(name = \"system\",\n",
    "         center = Center,\n",
    "         orbiting = [example_planetsys, o.Mars]\n",
    "         )\n",
    "\n",
    "example_system2 = o.System(name = \"system2\",\n",
    "         center = Center,\n",
    "         orbiting = [example_planetsys, o.Moon3]\n",
    "         )\n",
    "\n",
    "#Currently available systems\n",
    "print(p.list_systems())\n",
    "\n",
    "p.plot(\"system\")"
   ]
  }
 ],
 "metadata": {
  "kernelspec": {
   "display_name": ".venv",
   "language": "python",
   "name": "python3"
  },
  "language_info": {
   "codemirror_mode": {
    "name": "ipython",
    "version": 3
   },
   "file_extension": ".py",
   "mimetype": "text/x-python",
   "name": "python",
   "nbconvert_exporter": "python",
   "pygments_lexer": "ipython3",
   "version": "3.12.7"
  }
 },
 "nbformat": 4,
 "nbformat_minor": 2
}
